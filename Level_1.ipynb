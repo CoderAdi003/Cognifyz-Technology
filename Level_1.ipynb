{
  "nbformat": 4,
  "nbformat_minor": 0,
  "metadata": {
    "colab": {
      "provenance": [],
      "mount_file_id": "19cVKG-QOaNPbLemEaDdKCrTxBv9RsF0r",
      "authorship_tag": "ABX9TyNTWs/ufYVSTbjHmLJBRsJ9",
      "include_colab_link": true
    },
    "kernelspec": {
      "name": "python3",
      "display_name": "Python 3"
    },
    "language_info": {
      "name": "python"
    }
  },
  "cells": [
    {
      "cell_type": "markdown",
      "metadata": {
        "id": "view-in-github",
        "colab_type": "text"
      },
      "source": [
        "<a href=\"https://colab.research.google.com/github/CoderAdi003/Cognifyz-Technology/blob/main/Level_1.ipynb\" target=\"_parent\"><img src=\"https://colab.research.google.com/assets/colab-badge.svg\" alt=\"Open In Colab\"/></a>"
      ]
    },
    {
      "cell_type": "markdown",
      "source": [
        "#**LEVEL 1**"
      ],
      "metadata": {
        "id": "aIuxcw-po0JA"
      }
    },
    {
      "cell_type": "code",
      "execution_count": null,
      "metadata": {
        "colab": {
          "base_uri": "https://localhost:8080/"
        },
        "id": "FZF4UNuAjZGc",
        "outputId": "1e5d4619-7d30-4c28-d67f-f2770f639d69"
      },
      "outputs": [
        {
          "output_type": "stream",
          "name": "stdout",
          "text": [
            "Drive already mounted at /content/drive; to attempt to forcibly remount, call drive.mount(\"/content/drive\", force_remount=True).\n"
          ]
        }
      ],
      "source": [
        "from google.colab import drive\n",
        "drive.mount(\"/content/drive\")\n"
      ]
    },
    {
      "cell_type": "markdown",
      "source": [
        "**DATASET**"
      ],
      "metadata": {
        "id": "nrnQs1U8I6kf"
      }
    },
    {
      "cell_type": "code",
      "source": [
        "import pandas as pd\n",
        "import numpy as np\n",
        "import matplotlib.pyplot as plt\n",
        "\n",
        "path = \"/content/drive/MyDrive/Resume/Dataset .csv\"\n",
        "df = pd.read_csv(path)\n",
        "df"
      ],
      "metadata": {
        "id": "RaJ0DEK1kGs2",
        "colab": {
          "base_uri": "https://localhost:8080/",
          "height": 1000
        },
        "outputId": "87bdfb65-1c18-40a5-b7dd-fba0ec6a2c45"
      },
      "execution_count": null,
      "outputs": [
        {
          "output_type": "execute_result",
          "data": {
            "text/plain": [
              "      Restaurant ID           Restaurant Name  Country Code              City  \\\n",
              "0           6317637          Le Petit Souffle           162       Makati City   \n",
              "1           6304287          Izakaya Kikufuji           162       Makati City   \n",
              "2           6300002    Heat - Edsa Shangri-La           162  Mandaluyong City   \n",
              "3           6318506                      Ooma           162  Mandaluyong City   \n",
              "4           6314302               Sambo Kojin           162  Mandaluyong City   \n",
              "...             ...                       ...           ...               ...   \n",
              "9546        5915730               Naml۱ Gurme           208         ��stanbul   \n",
              "9547        5908749              Ceviz A��ac۱           208         ��stanbul   \n",
              "9548        5915807                     Huqqa           208         ��stanbul   \n",
              "9549        5916112               A���k Kahve           208         ��stanbul   \n",
              "9550        5927402  Walter's Coffee Roastery           208         ��stanbul   \n",
              "\n",
              "                                                Address  \\\n",
              "0     Third Floor, Century City Mall, Kalayaan Avenu...   \n",
              "1     Little Tokyo, 2277 Chino Roces Avenue, Legaspi...   \n",
              "2     Edsa Shangri-La, 1 Garden Way, Ortigas, Mandal...   \n",
              "3     Third Floor, Mega Fashion Hall, SM Megamall, O...   \n",
              "4     Third Floor, Mega Atrium, SM Megamall, Ortigas...   \n",
              "...                                                 ...   \n",
              "9546  Kemanke�� Karamustafa Pa��a Mahallesi, R۱ht۱m ...   \n",
              "9547  Ko��uyolu Mahallesi, Muhittin ��st�_nda�� Cadd...   \n",
              "9548  Kuru�_e��me Mahallesi, Muallim Naci Caddesi, N...   \n",
              "9549  Kuru�_e��me Mahallesi, Muallim Naci Caddesi, N...   \n",
              "9550  Cafea��a Mahallesi, Bademalt۱ Sokak, No 21/B, ...   \n",
              "\n",
              "                                        Locality  \\\n",
              "0      Century City Mall, Poblacion, Makati City   \n",
              "1     Little Tokyo, Legaspi Village, Makati City   \n",
              "2     Edsa Shangri-La, Ortigas, Mandaluyong City   \n",
              "3         SM Megamall, Ortigas, Mandaluyong City   \n",
              "4         SM Megamall, Ortigas, Mandaluyong City   \n",
              "...                                          ...   \n",
              "9546                                    Karak�_y   \n",
              "9547                                   Ko��uyolu   \n",
              "9548                                 Kuru�_e��me   \n",
              "9549                                 Kuru�_e��me   \n",
              "9550                                        Moda   \n",
              "\n",
              "                                       Locality Verbose   Longitude  \\\n",
              "0     Century City Mall, Poblacion, Makati City, Mak...  121.027535   \n",
              "1     Little Tokyo, Legaspi Village, Makati City, Ma...  121.014101   \n",
              "2     Edsa Shangri-La, Ortigas, Mandaluyong City, Ma...  121.056831   \n",
              "3     SM Megamall, Ortigas, Mandaluyong City, Mandal...  121.056475   \n",
              "4     SM Megamall, Ortigas, Mandaluyong City, Mandal...  121.057508   \n",
              "...                                                 ...         ...   \n",
              "9546                                Karak�_y, ��stanbul   28.977392   \n",
              "9547                               Ko��uyolu, ��stanbul   29.041297   \n",
              "9548                             Kuru�_e��me, ��stanbul   29.034640   \n",
              "9549                             Kuru�_e��me, ��stanbul   29.036019   \n",
              "9550                                    Moda, ��stanbul   29.026016   \n",
              "\n",
              "       Latitude                          Cuisines  ...          Currency  \\\n",
              "0     14.565443        French, Japanese, Desserts  ...  Botswana Pula(P)   \n",
              "1     14.553708                          Japanese  ...  Botswana Pula(P)   \n",
              "2     14.581404  Seafood, Asian, Filipino, Indian  ...  Botswana Pula(P)   \n",
              "3     14.585318                   Japanese, Sushi  ...  Botswana Pula(P)   \n",
              "4     14.584450                  Japanese, Korean  ...  Botswana Pula(P)   \n",
              "...         ...                               ...  ...               ...   \n",
              "9546  41.022793                           Turkish  ...  Turkish Lira(TL)   \n",
              "9547  41.009847   World Cuisine, Patisserie, Cafe  ...  Turkish Lira(TL)   \n",
              "9548  41.055817            Italian, World Cuisine  ...  Turkish Lira(TL)   \n",
              "9549  41.057979                   Restaurant Cafe  ...  Turkish Lira(TL)   \n",
              "9550  40.984776                              Cafe  ...  Turkish Lira(TL)   \n",
              "\n",
              "     Has Table booking Has Online delivery Is delivering now  \\\n",
              "0                  Yes                  No                No   \n",
              "1                  Yes                  No                No   \n",
              "2                  Yes                  No                No   \n",
              "3                   No                  No                No   \n",
              "4                  Yes                  No                No   \n",
              "...                ...                 ...               ...   \n",
              "9546                No                  No                No   \n",
              "9547                No                  No                No   \n",
              "9548                No                  No                No   \n",
              "9549                No                  No                No   \n",
              "9550                No                  No                No   \n",
              "\n",
              "     Switch to order menu Price range  Aggregate rating  Rating color  \\\n",
              "0                      No           3               4.8    Dark Green   \n",
              "1                      No           3               4.5    Dark Green   \n",
              "2                      No           4               4.4         Green   \n",
              "3                      No           4               4.9    Dark Green   \n",
              "4                      No           4               4.8    Dark Green   \n",
              "...                   ...         ...               ...           ...   \n",
              "9546                   No           3               4.1         Green   \n",
              "9547                   No           3               4.2         Green   \n",
              "9548                   No           4               3.7        Yellow   \n",
              "9549                   No           4               4.0         Green   \n",
              "9550                   No           2               4.0         Green   \n",
              "\n",
              "     Rating text Votes  \n",
              "0      Excellent   314  \n",
              "1      Excellent   591  \n",
              "2      Very Good   270  \n",
              "3      Excellent   365  \n",
              "4      Excellent   229  \n",
              "...          ...   ...  \n",
              "9546   Very Good   788  \n",
              "9547   Very Good  1034  \n",
              "9548        Good   661  \n",
              "9549   Very Good   901  \n",
              "9550   Very Good   591  \n",
              "\n",
              "[9551 rows x 21 columns]"
            ],
            "text/html": [
              "\n",
              "  <div id=\"df-825469b7-1c2c-474d-9e8e-9b92248ba2c5\" class=\"colab-df-container\">\n",
              "    <div>\n",
              "<style scoped>\n",
              "    .dataframe tbody tr th:only-of-type {\n",
              "        vertical-align: middle;\n",
              "    }\n",
              "\n",
              "    .dataframe tbody tr th {\n",
              "        vertical-align: top;\n",
              "    }\n",
              "\n",
              "    .dataframe thead th {\n",
              "        text-align: right;\n",
              "    }\n",
              "</style>\n",
              "<table border=\"1\" class=\"dataframe\">\n",
              "  <thead>\n",
              "    <tr style=\"text-align: right;\">\n",
              "      <th></th>\n",
              "      <th>Restaurant ID</th>\n",
              "      <th>Restaurant Name</th>\n",
              "      <th>Country Code</th>\n",
              "      <th>City</th>\n",
              "      <th>Address</th>\n",
              "      <th>Locality</th>\n",
              "      <th>Locality Verbose</th>\n",
              "      <th>Longitude</th>\n",
              "      <th>Latitude</th>\n",
              "      <th>Cuisines</th>\n",
              "      <th>...</th>\n",
              "      <th>Currency</th>\n",
              "      <th>Has Table booking</th>\n",
              "      <th>Has Online delivery</th>\n",
              "      <th>Is delivering now</th>\n",
              "      <th>Switch to order menu</th>\n",
              "      <th>Price range</th>\n",
              "      <th>Aggregate rating</th>\n",
              "      <th>Rating color</th>\n",
              "      <th>Rating text</th>\n",
              "      <th>Votes</th>\n",
              "    </tr>\n",
              "  </thead>\n",
              "  <tbody>\n",
              "    <tr>\n",
              "      <th>0</th>\n",
              "      <td>6317637</td>\n",
              "      <td>Le Petit Souffle</td>\n",
              "      <td>162</td>\n",
              "      <td>Makati City</td>\n",
              "      <td>Third Floor, Century City Mall, Kalayaan Avenu...</td>\n",
              "      <td>Century City Mall, Poblacion, Makati City</td>\n",
              "      <td>Century City Mall, Poblacion, Makati City, Mak...</td>\n",
              "      <td>121.027535</td>\n",
              "      <td>14.565443</td>\n",
              "      <td>French, Japanese, Desserts</td>\n",
              "      <td>...</td>\n",
              "      <td>Botswana Pula(P)</td>\n",
              "      <td>Yes</td>\n",
              "      <td>No</td>\n",
              "      <td>No</td>\n",
              "      <td>No</td>\n",
              "      <td>3</td>\n",
              "      <td>4.8</td>\n",
              "      <td>Dark Green</td>\n",
              "      <td>Excellent</td>\n",
              "      <td>314</td>\n",
              "    </tr>\n",
              "    <tr>\n",
              "      <th>1</th>\n",
              "      <td>6304287</td>\n",
              "      <td>Izakaya Kikufuji</td>\n",
              "      <td>162</td>\n",
              "      <td>Makati City</td>\n",
              "      <td>Little Tokyo, 2277 Chino Roces Avenue, Legaspi...</td>\n",
              "      <td>Little Tokyo, Legaspi Village, Makati City</td>\n",
              "      <td>Little Tokyo, Legaspi Village, Makati City, Ma...</td>\n",
              "      <td>121.014101</td>\n",
              "      <td>14.553708</td>\n",
              "      <td>Japanese</td>\n",
              "      <td>...</td>\n",
              "      <td>Botswana Pula(P)</td>\n",
              "      <td>Yes</td>\n",
              "      <td>No</td>\n",
              "      <td>No</td>\n",
              "      <td>No</td>\n",
              "      <td>3</td>\n",
              "      <td>4.5</td>\n",
              "      <td>Dark Green</td>\n",
              "      <td>Excellent</td>\n",
              "      <td>591</td>\n",
              "    </tr>\n",
              "    <tr>\n",
              "      <th>2</th>\n",
              "      <td>6300002</td>\n",
              "      <td>Heat - Edsa Shangri-La</td>\n",
              "      <td>162</td>\n",
              "      <td>Mandaluyong City</td>\n",
              "      <td>Edsa Shangri-La, 1 Garden Way, Ortigas, Mandal...</td>\n",
              "      <td>Edsa Shangri-La, Ortigas, Mandaluyong City</td>\n",
              "      <td>Edsa Shangri-La, Ortigas, Mandaluyong City, Ma...</td>\n",
              "      <td>121.056831</td>\n",
              "      <td>14.581404</td>\n",
              "      <td>Seafood, Asian, Filipino, Indian</td>\n",
              "      <td>...</td>\n",
              "      <td>Botswana Pula(P)</td>\n",
              "      <td>Yes</td>\n",
              "      <td>No</td>\n",
              "      <td>No</td>\n",
              "      <td>No</td>\n",
              "      <td>4</td>\n",
              "      <td>4.4</td>\n",
              "      <td>Green</td>\n",
              "      <td>Very Good</td>\n",
              "      <td>270</td>\n",
              "    </tr>\n",
              "    <tr>\n",
              "      <th>3</th>\n",
              "      <td>6318506</td>\n",
              "      <td>Ooma</td>\n",
              "      <td>162</td>\n",
              "      <td>Mandaluyong City</td>\n",
              "      <td>Third Floor, Mega Fashion Hall, SM Megamall, O...</td>\n",
              "      <td>SM Megamall, Ortigas, Mandaluyong City</td>\n",
              "      <td>SM Megamall, Ortigas, Mandaluyong City, Mandal...</td>\n",
              "      <td>121.056475</td>\n",
              "      <td>14.585318</td>\n",
              "      <td>Japanese, Sushi</td>\n",
              "      <td>...</td>\n",
              "      <td>Botswana Pula(P)</td>\n",
              "      <td>No</td>\n",
              "      <td>No</td>\n",
              "      <td>No</td>\n",
              "      <td>No</td>\n",
              "      <td>4</td>\n",
              "      <td>4.9</td>\n",
              "      <td>Dark Green</td>\n",
              "      <td>Excellent</td>\n",
              "      <td>365</td>\n",
              "    </tr>\n",
              "    <tr>\n",
              "      <th>4</th>\n",
              "      <td>6314302</td>\n",
              "      <td>Sambo Kojin</td>\n",
              "      <td>162</td>\n",
              "      <td>Mandaluyong City</td>\n",
              "      <td>Third Floor, Mega Atrium, SM Megamall, Ortigas...</td>\n",
              "      <td>SM Megamall, Ortigas, Mandaluyong City</td>\n",
              "      <td>SM Megamall, Ortigas, Mandaluyong City, Mandal...</td>\n",
              "      <td>121.057508</td>\n",
              "      <td>14.584450</td>\n",
              "      <td>Japanese, Korean</td>\n",
              "      <td>...</td>\n",
              "      <td>Botswana Pula(P)</td>\n",
              "      <td>Yes</td>\n",
              "      <td>No</td>\n",
              "      <td>No</td>\n",
              "      <td>No</td>\n",
              "      <td>4</td>\n",
              "      <td>4.8</td>\n",
              "      <td>Dark Green</td>\n",
              "      <td>Excellent</td>\n",
              "      <td>229</td>\n",
              "    </tr>\n",
              "    <tr>\n",
              "      <th>...</th>\n",
              "      <td>...</td>\n",
              "      <td>...</td>\n",
              "      <td>...</td>\n",
              "      <td>...</td>\n",
              "      <td>...</td>\n",
              "      <td>...</td>\n",
              "      <td>...</td>\n",
              "      <td>...</td>\n",
              "      <td>...</td>\n",
              "      <td>...</td>\n",
              "      <td>...</td>\n",
              "      <td>...</td>\n",
              "      <td>...</td>\n",
              "      <td>...</td>\n",
              "      <td>...</td>\n",
              "      <td>...</td>\n",
              "      <td>...</td>\n",
              "      <td>...</td>\n",
              "      <td>...</td>\n",
              "      <td>...</td>\n",
              "      <td>...</td>\n",
              "    </tr>\n",
              "    <tr>\n",
              "      <th>9546</th>\n",
              "      <td>5915730</td>\n",
              "      <td>Naml۱ Gurme</td>\n",
              "      <td>208</td>\n",
              "      <td>��stanbul</td>\n",
              "      <td>Kemanke�� Karamustafa Pa��a Mahallesi, R۱ht۱m ...</td>\n",
              "      <td>Karak�_y</td>\n",
              "      <td>Karak�_y, ��stanbul</td>\n",
              "      <td>28.977392</td>\n",
              "      <td>41.022793</td>\n",
              "      <td>Turkish</td>\n",
              "      <td>...</td>\n",
              "      <td>Turkish Lira(TL)</td>\n",
              "      <td>No</td>\n",
              "      <td>No</td>\n",
              "      <td>No</td>\n",
              "      <td>No</td>\n",
              "      <td>3</td>\n",
              "      <td>4.1</td>\n",
              "      <td>Green</td>\n",
              "      <td>Very Good</td>\n",
              "      <td>788</td>\n",
              "    </tr>\n",
              "    <tr>\n",
              "      <th>9547</th>\n",
              "      <td>5908749</td>\n",
              "      <td>Ceviz A��ac۱</td>\n",
              "      <td>208</td>\n",
              "      <td>��stanbul</td>\n",
              "      <td>Ko��uyolu Mahallesi, Muhittin ��st�_nda�� Cadd...</td>\n",
              "      <td>Ko��uyolu</td>\n",
              "      <td>Ko��uyolu, ��stanbul</td>\n",
              "      <td>29.041297</td>\n",
              "      <td>41.009847</td>\n",
              "      <td>World Cuisine, Patisserie, Cafe</td>\n",
              "      <td>...</td>\n",
              "      <td>Turkish Lira(TL)</td>\n",
              "      <td>No</td>\n",
              "      <td>No</td>\n",
              "      <td>No</td>\n",
              "      <td>No</td>\n",
              "      <td>3</td>\n",
              "      <td>4.2</td>\n",
              "      <td>Green</td>\n",
              "      <td>Very Good</td>\n",
              "      <td>1034</td>\n",
              "    </tr>\n",
              "    <tr>\n",
              "      <th>9548</th>\n",
              "      <td>5915807</td>\n",
              "      <td>Huqqa</td>\n",
              "      <td>208</td>\n",
              "      <td>��stanbul</td>\n",
              "      <td>Kuru�_e��me Mahallesi, Muallim Naci Caddesi, N...</td>\n",
              "      <td>Kuru�_e��me</td>\n",
              "      <td>Kuru�_e��me, ��stanbul</td>\n",
              "      <td>29.034640</td>\n",
              "      <td>41.055817</td>\n",
              "      <td>Italian, World Cuisine</td>\n",
              "      <td>...</td>\n",
              "      <td>Turkish Lira(TL)</td>\n",
              "      <td>No</td>\n",
              "      <td>No</td>\n",
              "      <td>No</td>\n",
              "      <td>No</td>\n",
              "      <td>4</td>\n",
              "      <td>3.7</td>\n",
              "      <td>Yellow</td>\n",
              "      <td>Good</td>\n",
              "      <td>661</td>\n",
              "    </tr>\n",
              "    <tr>\n",
              "      <th>9549</th>\n",
              "      <td>5916112</td>\n",
              "      <td>A���k Kahve</td>\n",
              "      <td>208</td>\n",
              "      <td>��stanbul</td>\n",
              "      <td>Kuru�_e��me Mahallesi, Muallim Naci Caddesi, N...</td>\n",
              "      <td>Kuru�_e��me</td>\n",
              "      <td>Kuru�_e��me, ��stanbul</td>\n",
              "      <td>29.036019</td>\n",
              "      <td>41.057979</td>\n",
              "      <td>Restaurant Cafe</td>\n",
              "      <td>...</td>\n",
              "      <td>Turkish Lira(TL)</td>\n",
              "      <td>No</td>\n",
              "      <td>No</td>\n",
              "      <td>No</td>\n",
              "      <td>No</td>\n",
              "      <td>4</td>\n",
              "      <td>4.0</td>\n",
              "      <td>Green</td>\n",
              "      <td>Very Good</td>\n",
              "      <td>901</td>\n",
              "    </tr>\n",
              "    <tr>\n",
              "      <th>9550</th>\n",
              "      <td>5927402</td>\n",
              "      <td>Walter's Coffee Roastery</td>\n",
              "      <td>208</td>\n",
              "      <td>��stanbul</td>\n",
              "      <td>Cafea��a Mahallesi, Bademalt۱ Sokak, No 21/B, ...</td>\n",
              "      <td>Moda</td>\n",
              "      <td>Moda, ��stanbul</td>\n",
              "      <td>29.026016</td>\n",
              "      <td>40.984776</td>\n",
              "      <td>Cafe</td>\n",
              "      <td>...</td>\n",
              "      <td>Turkish Lira(TL)</td>\n",
              "      <td>No</td>\n",
              "      <td>No</td>\n",
              "      <td>No</td>\n",
              "      <td>No</td>\n",
              "      <td>2</td>\n",
              "      <td>4.0</td>\n",
              "      <td>Green</td>\n",
              "      <td>Very Good</td>\n",
              "      <td>591</td>\n",
              "    </tr>\n",
              "  </tbody>\n",
              "</table>\n",
              "<p>9551 rows × 21 columns</p>\n",
              "</div>\n",
              "    <div class=\"colab-df-buttons\">\n",
              "\n",
              "  <div class=\"colab-df-container\">\n",
              "    <button class=\"colab-df-convert\" onclick=\"convertToInteractive('df-825469b7-1c2c-474d-9e8e-9b92248ba2c5')\"\n",
              "            title=\"Convert this dataframe to an interactive table.\"\n",
              "            style=\"display:none;\">\n",
              "\n",
              "  <svg xmlns=\"http://www.w3.org/2000/svg\" height=\"24px\" viewBox=\"0 -960 960 960\">\n",
              "    <path d=\"M120-120v-720h720v720H120Zm60-500h600v-160H180v160Zm220 220h160v-160H400v160Zm0 220h160v-160H400v160ZM180-400h160v-160H180v160Zm440 0h160v-160H620v160ZM180-180h160v-160H180v160Zm440 0h160v-160H620v160Z\"/>\n",
              "  </svg>\n",
              "    </button>\n",
              "\n",
              "  <style>\n",
              "    .colab-df-container {\n",
              "      display:flex;\n",
              "      gap: 12px;\n",
              "    }\n",
              "\n",
              "    .colab-df-convert {\n",
              "      background-color: #E8F0FE;\n",
              "      border: none;\n",
              "      border-radius: 50%;\n",
              "      cursor: pointer;\n",
              "      display: none;\n",
              "      fill: #1967D2;\n",
              "      height: 32px;\n",
              "      padding: 0 0 0 0;\n",
              "      width: 32px;\n",
              "    }\n",
              "\n",
              "    .colab-df-convert:hover {\n",
              "      background-color: #E2EBFA;\n",
              "      box-shadow: 0px 1px 2px rgba(60, 64, 67, 0.3), 0px 1px 3px 1px rgba(60, 64, 67, 0.15);\n",
              "      fill: #174EA6;\n",
              "    }\n",
              "\n",
              "    .colab-df-buttons div {\n",
              "      margin-bottom: 4px;\n",
              "    }\n",
              "\n",
              "    [theme=dark] .colab-df-convert {\n",
              "      background-color: #3B4455;\n",
              "      fill: #D2E3FC;\n",
              "    }\n",
              "\n",
              "    [theme=dark] .colab-df-convert:hover {\n",
              "      background-color: #434B5C;\n",
              "      box-shadow: 0px 1px 3px 1px rgba(0, 0, 0, 0.15);\n",
              "      filter: drop-shadow(0px 1px 2px rgba(0, 0, 0, 0.3));\n",
              "      fill: #FFFFFF;\n",
              "    }\n",
              "  </style>\n",
              "\n",
              "    <script>\n",
              "      const buttonEl =\n",
              "        document.querySelector('#df-825469b7-1c2c-474d-9e8e-9b92248ba2c5 button.colab-df-convert');\n",
              "      buttonEl.style.display =\n",
              "        google.colab.kernel.accessAllowed ? 'block' : 'none';\n",
              "\n",
              "      async function convertToInteractive(key) {\n",
              "        const element = document.querySelector('#df-825469b7-1c2c-474d-9e8e-9b92248ba2c5');\n",
              "        const dataTable =\n",
              "          await google.colab.kernel.invokeFunction('convertToInteractive',\n",
              "                                                    [key], {});\n",
              "        if (!dataTable) return;\n",
              "\n",
              "        const docLinkHtml = 'Like what you see? Visit the ' +\n",
              "          '<a target=\"_blank\" href=https://colab.research.google.com/notebooks/data_table.ipynb>data table notebook</a>'\n",
              "          + ' to learn more about interactive tables.';\n",
              "        element.innerHTML = '';\n",
              "        dataTable['output_type'] = 'display_data';\n",
              "        await google.colab.output.renderOutput(dataTable, element);\n",
              "        const docLink = document.createElement('div');\n",
              "        docLink.innerHTML = docLinkHtml;\n",
              "        element.appendChild(docLink);\n",
              "      }\n",
              "    </script>\n",
              "  </div>\n",
              "\n",
              "\n",
              "<div id=\"df-f272fb65-1904-4be9-b8d9-0a4919289a44\">\n",
              "  <button class=\"colab-df-quickchart\" onclick=\"quickchart('df-f272fb65-1904-4be9-b8d9-0a4919289a44')\"\n",
              "            title=\"Suggest charts\"\n",
              "            style=\"display:none;\">\n",
              "\n",
              "<svg xmlns=\"http://www.w3.org/2000/svg\" height=\"24px\"viewBox=\"0 0 24 24\"\n",
              "     width=\"24px\">\n",
              "    <g>\n",
              "        <path d=\"M19 3H5c-1.1 0-2 .9-2 2v14c0 1.1.9 2 2 2h14c1.1 0 2-.9 2-2V5c0-1.1-.9-2-2-2zM9 17H7v-7h2v7zm4 0h-2V7h2v10zm4 0h-2v-4h2v4z\"/>\n",
              "    </g>\n",
              "</svg>\n",
              "  </button>\n",
              "\n",
              "<style>\n",
              "  .colab-df-quickchart {\n",
              "      --bg-color: #E8F0FE;\n",
              "      --fill-color: #1967D2;\n",
              "      --hover-bg-color: #E2EBFA;\n",
              "      --hover-fill-color: #174EA6;\n",
              "      --disabled-fill-color: #AAA;\n",
              "      --disabled-bg-color: #DDD;\n",
              "  }\n",
              "\n",
              "  [theme=dark] .colab-df-quickchart {\n",
              "      --bg-color: #3B4455;\n",
              "      --fill-color: #D2E3FC;\n",
              "      --hover-bg-color: #434B5C;\n",
              "      --hover-fill-color: #FFFFFF;\n",
              "      --disabled-bg-color: #3B4455;\n",
              "      --disabled-fill-color: #666;\n",
              "  }\n",
              "\n",
              "  .colab-df-quickchart {\n",
              "    background-color: var(--bg-color);\n",
              "    border: none;\n",
              "    border-radius: 50%;\n",
              "    cursor: pointer;\n",
              "    display: none;\n",
              "    fill: var(--fill-color);\n",
              "    height: 32px;\n",
              "    padding: 0;\n",
              "    width: 32px;\n",
              "  }\n",
              "\n",
              "  .colab-df-quickchart:hover {\n",
              "    background-color: var(--hover-bg-color);\n",
              "    box-shadow: 0 1px 2px rgba(60, 64, 67, 0.3), 0 1px 3px 1px rgba(60, 64, 67, 0.15);\n",
              "    fill: var(--button-hover-fill-color);\n",
              "  }\n",
              "\n",
              "  .colab-df-quickchart-complete:disabled,\n",
              "  .colab-df-quickchart-complete:disabled:hover {\n",
              "    background-color: var(--disabled-bg-color);\n",
              "    fill: var(--disabled-fill-color);\n",
              "    box-shadow: none;\n",
              "  }\n",
              "\n",
              "  .colab-df-spinner {\n",
              "    border: 2px solid var(--fill-color);\n",
              "    border-color: transparent;\n",
              "    border-bottom-color: var(--fill-color);\n",
              "    animation:\n",
              "      spin 1s steps(1) infinite;\n",
              "  }\n",
              "\n",
              "  @keyframes spin {\n",
              "    0% {\n",
              "      border-color: transparent;\n",
              "      border-bottom-color: var(--fill-color);\n",
              "      border-left-color: var(--fill-color);\n",
              "    }\n",
              "    20% {\n",
              "      border-color: transparent;\n",
              "      border-left-color: var(--fill-color);\n",
              "      border-top-color: var(--fill-color);\n",
              "    }\n",
              "    30% {\n",
              "      border-color: transparent;\n",
              "      border-left-color: var(--fill-color);\n",
              "      border-top-color: var(--fill-color);\n",
              "      border-right-color: var(--fill-color);\n",
              "    }\n",
              "    40% {\n",
              "      border-color: transparent;\n",
              "      border-right-color: var(--fill-color);\n",
              "      border-top-color: var(--fill-color);\n",
              "    }\n",
              "    60% {\n",
              "      border-color: transparent;\n",
              "      border-right-color: var(--fill-color);\n",
              "    }\n",
              "    80% {\n",
              "      border-color: transparent;\n",
              "      border-right-color: var(--fill-color);\n",
              "      border-bottom-color: var(--fill-color);\n",
              "    }\n",
              "    90% {\n",
              "      border-color: transparent;\n",
              "      border-bottom-color: var(--fill-color);\n",
              "    }\n",
              "  }\n",
              "</style>\n",
              "\n",
              "  <script>\n",
              "    async function quickchart(key) {\n",
              "      const quickchartButtonEl =\n",
              "        document.querySelector('#' + key + ' button');\n",
              "      quickchartButtonEl.disabled = true;  // To prevent multiple clicks.\n",
              "      quickchartButtonEl.classList.add('colab-df-spinner');\n",
              "      try {\n",
              "        const charts = await google.colab.kernel.invokeFunction(\n",
              "            'suggestCharts', [key], {});\n",
              "      } catch (error) {\n",
              "        console.error('Error during call to suggestCharts:', error);\n",
              "      }\n",
              "      quickchartButtonEl.classList.remove('colab-df-spinner');\n",
              "      quickchartButtonEl.classList.add('colab-df-quickchart-complete');\n",
              "    }\n",
              "    (() => {\n",
              "      let quickchartButtonEl =\n",
              "        document.querySelector('#df-f272fb65-1904-4be9-b8d9-0a4919289a44 button');\n",
              "      quickchartButtonEl.style.display =\n",
              "        google.colab.kernel.accessAllowed ? 'block' : 'none';\n",
              "    })();\n",
              "  </script>\n",
              "</div>\n",
              "\n",
              "  <div id=\"id_1c3f3b30-71dc-4f65-b92f-62aeb7c58e95\">\n",
              "    <style>\n",
              "      .colab-df-generate {\n",
              "        background-color: #E8F0FE;\n",
              "        border: none;\n",
              "        border-radius: 50%;\n",
              "        cursor: pointer;\n",
              "        display: none;\n",
              "        fill: #1967D2;\n",
              "        height: 32px;\n",
              "        padding: 0 0 0 0;\n",
              "        width: 32px;\n",
              "      }\n",
              "\n",
              "      .colab-df-generate:hover {\n",
              "        background-color: #E2EBFA;\n",
              "        box-shadow: 0px 1px 2px rgba(60, 64, 67, 0.3), 0px 1px 3px 1px rgba(60, 64, 67, 0.15);\n",
              "        fill: #174EA6;\n",
              "      }\n",
              "\n",
              "      [theme=dark] .colab-df-generate {\n",
              "        background-color: #3B4455;\n",
              "        fill: #D2E3FC;\n",
              "      }\n",
              "\n",
              "      [theme=dark] .colab-df-generate:hover {\n",
              "        background-color: #434B5C;\n",
              "        box-shadow: 0px 1px 3px 1px rgba(0, 0, 0, 0.15);\n",
              "        filter: drop-shadow(0px 1px 2px rgba(0, 0, 0, 0.3));\n",
              "        fill: #FFFFFF;\n",
              "      }\n",
              "    </style>\n",
              "    <button class=\"colab-df-generate\" onclick=\"generateWithVariable('df')\"\n",
              "            title=\"Generate code using this dataframe.\"\n",
              "            style=\"display:none;\">\n",
              "\n",
              "  <svg xmlns=\"http://www.w3.org/2000/svg\" height=\"24px\"viewBox=\"0 0 24 24\"\n",
              "       width=\"24px\">\n",
              "    <path d=\"M7,19H8.4L18.45,9,17,7.55,7,17.6ZM5,21V16.75L18.45,3.32a2,2,0,0,1,2.83,0l1.4,1.43a1.91,1.91,0,0,1,.58,1.4,1.91,1.91,0,0,1-.58,1.4L9.25,21ZM18.45,9,17,7.55Zm-12,3A5.31,5.31,0,0,0,4.9,8.1,5.31,5.31,0,0,0,1,6.5,5.31,5.31,0,0,0,4.9,4.9,5.31,5.31,0,0,0,6.5,1,5.31,5.31,0,0,0,8.1,4.9,5.31,5.31,0,0,0,12,6.5,5.46,5.46,0,0,0,6.5,12Z\"/>\n",
              "  </svg>\n",
              "    </button>\n",
              "    <script>\n",
              "      (() => {\n",
              "      const buttonEl =\n",
              "        document.querySelector('#id_1c3f3b30-71dc-4f65-b92f-62aeb7c58e95 button.colab-df-generate');\n",
              "      buttonEl.style.display =\n",
              "        google.colab.kernel.accessAllowed ? 'block' : 'none';\n",
              "\n",
              "      buttonEl.onclick = () => {\n",
              "        google.colab.notebook.generateWithVariable('df');\n",
              "      }\n",
              "      })();\n",
              "    </script>\n",
              "  </div>\n",
              "\n",
              "    </div>\n",
              "  </div>\n"
            ],
            "application/vnd.google.colaboratory.intrinsic+json": {
              "type": "dataframe",
              "variable_name": "df"
            }
          },
          "metadata": {},
          "execution_count": 1
        }
      ]
    },
    {
      "cell_type": "markdown",
      "source": [
        "#**TASK 1**\n",
        "##*Top Cuisines*\n"
      ],
      "metadata": {
        "id": "j2VomJzgnS-k"
      }
    },
    {
      "cell_type": "markdown",
      "source": [
        "**1) Determine the top three most common cuisines**"
      ],
      "metadata": {
        "id": "DSNxo_nVJOQH"
      }
    },
    {
      "cell_type": "code",
      "source": [
        "print(df.columns)  #columns of dataset"
      ],
      "metadata": {
        "colab": {
          "base_uri": "https://localhost:8080/"
        },
        "id": "8drdDhT6npZU",
        "outputId": "8ee6ade6-2952-480c-b4ad-cc0f4ed5bd78"
      },
      "execution_count": null,
      "outputs": [
        {
          "output_type": "stream",
          "name": "stdout",
          "text": [
            "Index(['Restaurant ID', 'Restaurant Name', 'Country Code', 'City', 'Address',\n",
            "       'Locality', 'Locality Verbose', 'Longitude', 'Latitude', 'Cuisines',\n",
            "       'Average Cost for two', 'Currency', 'Has Table booking',\n",
            "       'Has Online delivery', 'Is delivering now', 'Switch to order menu',\n",
            "       'Price range', 'Aggregate rating', 'Rating color', 'Rating text',\n",
            "       'Votes'],\n",
            "      dtype='object')\n"
          ]
        }
      ]
    },
    {
      "cell_type": "code",
      "source": [
        "df.shape # Total rows x columns"
      ],
      "metadata": {
        "colab": {
          "base_uri": "https://localhost:8080/"
        },
        "id": "ayducUbWoEDk",
        "outputId": "3da9d03f-2287-430b-ae2f-688aa82ed40e"
      },
      "execution_count": null,
      "outputs": [
        {
          "output_type": "execute_result",
          "data": {
            "text/plain": [
              "(9551, 21)"
            ]
          },
          "metadata": {},
          "execution_count": 8
        }
      ]
    },
    {
      "cell_type": "code",
      "source": [
        "cuisine_count = df['Cuisines'].str.split(',').explode('Cuisines').value_counts()\n",
        "print(cuisine_count)\n",
        "top_cuisine= cuisine_count.head(3)\n",
        "print(\"The top cuisines are:\", top_cuisine)"
      ],
      "metadata": {
        "colab": {
          "base_uri": "https://localhost:8080/"
        },
        "id": "EoKK0-ISoIk9",
        "outputId": "9bee9cf5-4b3d-4dd6-ea9c-63181a44557e"
      },
      "execution_count": null,
      "outputs": [
        {
          "output_type": "stream",
          "name": "stdout",
          "text": [
            "Cuisines\n",
            "North Indian      2992\n",
            " Chinese          1880\n",
            " Fast Food        1314\n",
            " North Indian      968\n",
            "Chinese            855\n",
            "                  ... \n",
            " Ramen               1\n",
            "Indonesian           1\n",
            " Bubble Tea          1\n",
            "Kiwi                 1\n",
            " World Cuisine       1\n",
            "Name: count, Length: 249, dtype: int64\n",
            "The top cuisines are: Cuisines\n",
            "North Indian    2992\n",
            " Chinese        1880\n",
            " Fast Food      1314\n",
            "Name: count, dtype: int64\n"
          ]
        }
      ]
    },
    {
      "cell_type": "code",
      "source": [
        "Colours = [\"red\", \"orange\", \"yellow\"]\n",
        "plt.bar(top_cuisine.index,top_cuisine.values, color = Colours )\n",
        "plt.xlabel('Cuisine')\n",
        "plt.ylabel('Count')\n",
        "plt.title(\"Top Three Cuisines\")\n",
        "plt.show()"
      ],
      "metadata": {
        "colab": {
          "base_uri": "https://localhost:8080/",
          "height": 472
        },
        "id": "qqGWpEftoQh9",
        "outputId": "92654c27-c6cf-4963-d707-0c7fda4779d2"
      },
      "execution_count": null,
      "outputs": [
        {
          "output_type": "display_data",
          "data": {
            "text/plain": [
              "<Figure size 640x480 with 1 Axes>"
            ],
            "image/png": "[encoded data removed]"
          },
          "metadata": {}
        }
      ]
    },
    {
      "cell_type": "markdown",
      "source": [
        "**2.) Calculate the percentage of\n",
        "restaurants that serve each of the top\n",
        "cuisines.**"
      ],
      "metadata": {
        "id": "10MpTWDloXMc"
      }
    },
    {
      "cell_type": "code",
      "source": [
        "Total_restraunts = len(df)\n",
        "Top_cuisines = cuisine_count.head(3)\n",
        "Percentages = (Top_cuisines /Total_restraunts)*100\n",
        "print(\" Market Share of Top Cuisines are:\", Percentages)"
      ],
      "metadata": {
        "colab": {
          "base_uri": "https://localhost:8080/"
        },
        "id": "Wv9j1GRSobps",
        "outputId": "1c87ab21-4509-4f4e-cd2b-043ba98727f4"
      },
      "execution_count": null,
      "outputs": [
        {
          "output_type": "stream",
          "name": "stdout",
          "text": [
            " Market Share of Top Cuisines are: Cuisines\n",
            "North Indian    31.326563\n",
            " Chinese        19.683803\n",
            " Fast Food      13.757722\n",
            "Name: count, dtype: float64\n"
          ]
        }
      ]
    },
    {
      "cell_type": "code",
      "source": [
        "Colours = [\"red\", \"orange\", \"yellow\"]\n",
        "plt.bar(Top_cuisines.index,Percentages.values, color = Colours )\n",
        "plt.xlabel('Cuisine Name')\n",
        "plt.ylabel('Percentage')\n",
        "plt.title(\"Top Three Cuisines %\")\n",
        "plt.figure(figsize = (12,6))\n",
        "plt.show()"
      ],
      "metadata": {
        "colab": {
          "base_uri": "https://localhost:8080/",
          "height": 489
        },
        "id": "fwN_yhwTokpc",
        "outputId": "82156e5f-6f54-4a27-e4a3-394376dce32a"
      },
      "execution_count": null,
      "outputs": [
        {
          "output_type": "display_data",
          "data": {
            "text/plain": [
              "<Figure size 640x480 with 1 Axes>"
            ],
            "image/png": "[encoded data removed]"
          },
          "metadata": {}
        },
        {
          "output_type": "display_data",
          "data": {
            "text/plain": [
              "<Figure size 1200x600 with 0 Axes>"
            ]
          },
          "metadata": {}
        }
      ]
    },
    {
      "cell_type": "markdown",
      "source": [
        "#**TASK 2**\n",
        "\n",
        "##*CITY ANALYSIS*"
      ],
      "metadata": {
        "id": "pk6HmVTTpc3d"
      }
    },
    {
      "cell_type": "markdown",
      "source": [
        "**1) Identify the City with highest number of restraunts in the dataset.**"
      ],
      "metadata": {
        "id": "QxtNbnpOqA6F"
      }
    },
    {
      "cell_type": "code",
      "source": [
        "city_count = df['City'].value_counts()\n",
        "restraunts_no = city_count.head(1)\n",
        "print(\"City with Highest number of restraunts:\", city_count.idxmax())\n",
        "print(restraunts_no)"
      ],
      "metadata": {
        "colab": {
          "base_uri": "https://localhost:8080/"
        },
        "id": "g3F_hxw5qfr0",
        "outputId": "23fdbfc3-cf47-4806-b03b-44e637bab0f7"
      },
      "execution_count": null,
      "outputs": [
        {
          "output_type": "stream",
          "name": "stdout",
          "text": [
            "City with Highest number of restraunts: New Delhi\n",
            "City\n",
            "New Delhi    5473\n",
            "Name: count, dtype: int64\n"
          ]
        }
      ]
    },
    {
      "cell_type": "markdown",
      "source": [
        "**2) Calculate the average\n",
        "rating for restraunts in each city.**"
      ],
      "metadata": {
        "id": "br30VrNduF6A"
      }
    },
    {
      "cell_type": "code",
      "source": [
        "rating_by_each_city = df.groupby('City')['Aggregate rating'].mean()\n",
        "print(\"The Average rating of each city:\", rating_by_each_city)"
      ],
      "metadata": {
        "colab": {
          "base_uri": "https://localhost:8080/"
        },
        "id": "7yObfCeaubNy",
        "outputId": "71510ccf-c40a-47ba-be7e-03fe54e36ac4"
      },
      "execution_count": null,
      "outputs": [
        {
          "output_type": "stream",
          "name": "stdout",
          "text": [
            "The Average rating of each city: City\n",
            "Abu Dhabi          4.300000\n",
            "Agra               3.965000\n",
            "Ahmedabad          4.161905\n",
            "Albany             3.555000\n",
            "Allahabad          3.395000\n",
            "                     ...   \n",
            "Weirton            3.900000\n",
            "Wellington City    4.250000\n",
            "Winchester Bay     3.200000\n",
            "Yorkton            3.300000\n",
            "��stanbul          4.292857\n",
            "Name: Aggregate rating, Length: 141, dtype: float64\n"
          ]
        }
      ]
    },
    {
      "cell_type": "markdown",
      "source": [
        "**3) Determine the city with highest average rating.**"
      ],
      "metadata": {
        "id": "iW8U9Epv3GXm"
      }
    },
    {
      "cell_type": "code",
      "source": [
        "top_rated_city = rating_by_each_city.idxmax()\n",
        "value  = rating_by_each_city.max()\n",
        "top_rated_city = rating_by_each_city.idxmax()\n",
        "top_rated_city = rating_by_each_city.idxmax()\n",
        "print(\"The city with highest average rating is:\",top_rated_city,\",\",\"Rating=\", value )"
      ],
      "metadata": {
        "colab": {
          "base_uri": "https://localhost:8080/"
        },
        "id": "JHocZVUk3PQK",
        "outputId": "9ef570ea-997a-4533-fcd8-7da78e548910"
      },
      "execution_count": null,
      "outputs": [
        {
          "output_type": "stream",
          "name": "stdout",
          "text": [
            "The city with highest average rating is: Inner City , Rating= 4.9\n"
          ]
        }
      ]
    },
    {
      "cell_type": "markdown",
      "source": [
        "#**Task 3**\n",
        "\n",
        "\n",
        "##*Price Range Distribution*"
      ],
      "metadata": {
        "id": "B3WnQJ5O4QsP"
      }
    },
    {
      "cell_type": "markdown",
      "source": [
        "**1) Create a histogram or bar chart to visualize distribution of price ranges among the restruants.**"
      ],
      "metadata": {
        "id": "kASEdZJh4l8g"
      }
    },
    {
      "cell_type": "code",
      "source": [
        "df.hist(column = \"Price range\")\n",
        "plt.title(\"Distribution of Price Ranges\")\n",
        "plt.xlabel('Price Range')\n",
        "plt.ylabel('Counts')\n",
        "plt.show()"
      ],
      "metadata": {
        "colab": {
          "base_uri": "https://localhost:8080/",
          "height": 472
        },
        "id": "NlI0oD6j5E3x",
        "outputId": "0dc287e3-b6d3-4aa7-d26f-8383948ea42f"
      },
      "execution_count": null,
      "outputs": [
        {
          "output_type": "display_data",
          "data": {
            "text/plain": [
              "<Figure size 640x480 with 1 Axes>"
            ],
            "image/png": "[encoded data removed]"
          },
          "metadata": {}
        }
      ]
    },
    {
      "cell_type": "markdown",
      "source": [
        "**2) Calculate the percentage of restaurants\n",
        "in each price range category.**"
      ],
      "metadata": {
        "id": "23EfgAZx6A4k"
      }
    },
    {
      "cell_type": "code",
      "source": [
        "price_range_count = df[\"Price range\"].value_counts()\n",
        "total_restraunts = len(df)\n",
        "percentage = round((price_range_count / total_restraunts )*100,2)\n",
        "percentage_m = pd.merge(price_range_count, percentage , on = \"Price range\")\n",
        "print(\"The % of restaurants in each price range category are\", percentage_m)"
      ],
      "metadata": {
        "colab": {
          "base_uri": "https://localhost:8080/"
        },
        "id": "ZSfeHYfi6E7G",
        "outputId": "bbf3f62f-de07-48c1-9004-53638cbbbd2c"
      },
      "execution_count": null,
      "outputs": [
        {
          "output_type": "stream",
          "name": "stdout",
          "text": [
            "The % of restaurants in each price range category are              count_x  count_y\n",
            "Price range                  \n",
            "1               4444    46.53\n",
            "2               3113    32.59\n",
            "3               1408    14.74\n",
            "4                586     6.14 %\n"
          ]
        }
      ]
    },
    {
      "cell_type": "code",
      "source": [
        "plt.pie(percentage,labels=percentage.index,autopct = '%1.1f%%', colors = [\"red\", \"orange\", \"yellow\", \"green\"])\n",
        "plt.title(\"Price Range Percentage\")\n",
        "plt.show()"
      ],
      "metadata": {
        "colab": {
          "base_uri": "https://localhost:8080/",
          "height": 428
        },
        "id": "MtrXc78u8oa1",
        "outputId": "49521a79-7dc5-4e23-c201-1eb9b66ee71c"
      },
      "execution_count": null,
      "outputs": [
        {
          "output_type": "display_data",
          "data": {
            "text/plain": [
              "<Figure size 640x480 with 1 Axes>"
            ],
            "image/png": "[encoded data removed]"
          },
          "metadata": {}
        }
      ]
    },
    {
      "cell_type": "markdown",
      "source": [
        "#**Task 4**\n",
        "\n",
        "##*Online Delivery*\n",
        "\n",
        "\n"
      ],
      "metadata": {
        "id": "HR5RKZ5v-UhL"
      }
    },
    {
      "cell_type": "markdown",
      "source": [
        "**1) Determine the percentage of restaurants\n",
        "that offer online delivery.**"
      ],
      "metadata": {
        "id": "7m2Hh7yb_m4n"
      }
    },
    {
      "cell_type": "code",
      "source": [
        "online_delivery = df[\"Has Online delivery\"].value_counts().get('Yes', 0)\n",
        "print(\"Total Restruants with online delivery:\", online_delivery)\n",
        "Row_count = len(df)\n",
        "percentage_of_online_delivery = round((online_delivery / Row_count)*100, 2)\n",
        "print(\"Total % of restraunts where Online Delivery is:\", percentage_of_online_delivery)"
      ],
      "metadata": {
        "colab": {
          "base_uri": "https://localhost:8080/"
        },
        "id": "gpxWaY5i_see",
        "outputId": "bc349eb6-89ba-4d38-e31a-a1074b72edea"
      },
      "execution_count": null,
      "outputs": [
        {
          "output_type": "stream",
          "name": "stdout",
          "text": [
            "Total Restruants with online delivery: 2451\n",
            "Total % of restraunts where Online Delivery is: 25.66\n"
          ]
        }
      ]
    },
    {
      "cell_type": "code",
      "source": [
        "no= df[\"Has Online delivery\"].value_counts().get('No', 0)\n",
        "print(\"Total Restruants with NO online delivery:\", no)\n",
        "Row_count = len(df)\n",
        "percentage_of_no_online_delivery = round((no / Row_count)*100, 2)\n",
        "print(\"Total % of restraunts where Online Delivery is not present:\", percentage_of_no_online_delivery)"
      ],
      "metadata": {
        "colab": {
          "base_uri": "https://localhost:8080/"
        },
        "id": "4nKW2qDwA2rE",
        "outputId": "d4589a81-4c0b-41f8-bf5a-c35eb13f0320"
      },
      "execution_count": null,
      "outputs": [
        {
          "output_type": "stream",
          "name": "stdout",
          "text": [
            "Total Restruants with NO online delivery: 7100\n",
            "Total % of restraunts where Online Delivery is not present: 74.34\n"
          ]
        }
      ]
    },
    {
      "cell_type": "markdown",
      "source": [
        "**2)Compare the average ratings of restaurants\n",
        "with and without online delivery.**"
      ],
      "metadata": {
        "id": "rUeY_yTbDrr9"
      }
    },
    {
      "cell_type": "code",
      "source": [
        "Avg_rating_yes  = round(df[df['Has Online delivery'] == 'Yes']['Aggregate rating'].mean(), 2)\n",
        "print(\"Average rating with Online delivery: \",Avg_rating_yes  )"
      ],
      "metadata": {
        "colab": {
          "base_uri": "https://localhost:8080/"
        },
        "id": "cCNPk4QdDupc",
        "outputId": "60d04d77-62b3-4188-b97f-f8dfdc3e5133"
      },
      "execution_count": null,
      "outputs": [
        {
          "output_type": "stream",
          "name": "stdout",
          "text": [
            "Average rating without Online delivery:  3.25\n"
          ]
        }
      ]
    },
    {
      "cell_type": "code",
      "source": [
        "Avg_rating_no = round(df[df['Has Online delivery'] == 'No']['Aggregate rating'].mean(), 2)\n",
        "print(\"Average rating with NO Online delivery: \",Avg_rating_no  )"
      ],
      "metadata": {
        "colab": {
          "base_uri": "https://localhost:8080/"
        },
        "id": "LyhwsL3pFD2X",
        "outputId": "d83055fc-d84b-4827-dce5-91d68ed1b090"
      },
      "execution_count": null,
      "outputs": [
        {
          "output_type": "stream",
          "name": "stdout",
          "text": [
            "Average rating with NO Online delivery:  2.47\n"
          ]
        }
      ]
    },
    {
      "cell_type": "code",
      "source": [
        "labels = [\"YES\", \"NO\"]\n",
        "average_rating =[Avg_rating_yes, Avg_rating_no ]\n",
        "colors = \"red\", \"green\"\n",
        "plt.barh(labels, average_rating, color = colors)\n",
        "plt.ylabel(\"Online Delivery\")\n",
        "plt.xlabel(\"Average\")\n",
        "plt.title(\"Comparison of Average ratings of Online Delivery\")\n",
        "plt.show()"
      ],
      "metadata": {
        "colab": {
          "base_uri": "https://localhost:8080/",
          "height": 472
        },
        "id": "xkJM0Z9TFQUy",
        "outputId": "802f137f-3521-4ca7-ca90-e06348e283bc"
      },
      "execution_count": null,
      "outputs": [
        {
          "output_type": "display_data",
          "data": {
            "text/plain": [
              "<Figure size 640x480 with 1 Axes>"
            ],
            "image/png": "[encoded data removed]"
          },
          "metadata": {}
        }
      ]
    }
  ]
}